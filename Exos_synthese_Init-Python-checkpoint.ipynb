{
 "cells": [
  {
   "cell_type": "markdown",
   "metadata": {
    "slideshow": {
     "slide_type": "slide"
    }
   },
   "source": [
    "<table>   <tr>\n",
    "    <td>Sciences Numériques et Technologie </td>\n",
    "    <td><img src=\"images/logo.jpg\"      alt=\"St Joseph-La Salle LORIENT\" width=\"50\"      height=\"48\"></td>\n",
    "  </tr>   </table>\n",
    "  \n",
    "# Apprentissage de jupyter Notebook - Exercice de synthèse \n",
    "\n",
    "Ces deux exercices a pour objectif de faire une synthèse des notions vues dans le TP précédent\n",
    "\n",
    "-----"
   ]
  },
  {
   "cell_type": "markdown",
   "metadata": {
    "slideshow": {
     "slide_type": "subslide"
    }
   },
   "source": [
    "# Exercice  1  - Le juste prix\n",
    "* Compléter le programme ci-dessous afin de :\n",
    "    * génèrer un nombre aléatoire entre 1 et 500 ( le juste prix)\n",
    "    * demander à l'utilisateur d'entrer un nombre entre 1 et 500\n",
    "    * comparer ce prix au nombre aléatoire\n",
    "    * tant que le juste prix n'est pas trouvé \n",
    "        * indiquer (affiche) si le prix est trop élevé, trop faible \n",
    "        * demander  à l'utilisateur d'entrer un nombre entre 1 et 500\n",
    "    * fin tant que \n",
    "    * indiquer (affiche) que le juste prix est trouvé\n",
    "    * afficher le nombre d'essais"
   ]
  },
  {
   "cell_type": "code",
   "execution_count": 2,
   "metadata": {
    "slideshow": {
     "slide_type": "fragment"
    }
   },
   "outputs": [
    {
     "name": "stdout",
     "output_type": "stream",
     "text": [
      "119\n"
     ]
    }
   ],
   "source": [
    "# compléter  ici le code de l'exercice du juste prix \n",
    "# Nous allons utiliser une fonction qui permet de récupérer un nombre aléatoire. La notion de fonction sera vue dans un autre TP\n",
    "from random import randint # on importe la fonction randint (random integer)\n",
    "\n",
    "\n",
    "prix = randint(1,500) # on stocke dans une variable prix aleaotoire un nombre entier aléatoire entre 1 et 500\n",
    "print(prix)"
   ]
  },
  {
   "cell_type": "markdown",
   "metadata": {
    "slideshow": {
     "slide_type": "subslide"
    }
   },
   "source": [
    "# Exercice 2 - Département de médecine : contrôle d'une épidémie\n",
    "\n",
    "\n",
    "Afin de pouvoir mieux combattre la COVID-19, l'agence régionale de santé (ARS) de l'université a lancé une grande étude. En particulier, les chercheurs s'intéressent à la vitesse de propagation de l'épidémie et donc à la vitesse à laquelle des mesures sanitaires doivent êtres mises en place.\n",
    "\n",
    "<u>Ce que doit faire votre programme :</u>\n",
    "\n",
    "Votre programme doit d'abord lire un entier, la population totale de la ville. Sachant qu'une personne était malade au jour 1 et que chaque malade contamine deux nouvelles personnes le jour suivant (et chacun des jours qui suivent), vous devez calculer à partir de quel jour toute la population de la ville sera malade.\n",
    "\n",
    "<u>Exemples</u>\n",
    "* Exemple 1\n",
    "    * entrée : 3\n",
    "    * sortie : 2\n",
    "\n",
    "* Exemple 2\n",
    "\n",
    "   * entrée :10\n",
    "   * sortie :4\n",
    "\n",
    "<u>Commentaires </u>\n",
    "\n",
    "On a 1 malade le premier jour, donc 2 nouveaux malades le second jour, soit un total de 3 malades. On a donc 6 nouveaux malades au troisième jour, soit un total de 9 malades. On a donc 18 nouveaux malades au quatrième jour, soit…\n"
   ]
  },
  {
   "cell_type": "code",
   "execution_count": null,
   "metadata": {},
   "outputs": [],
   "source": [
    "# completer  ici le code de l'exercice contrôle d'une épidémie"
   ]
  }
 ],
 "metadata": {
  "celltoolbar": "Visualize",
  "kernelspec": {
   "display_name": "Python 3",
   "language": "python",
   "name": "python3"
  },
  "language_info": {
   "codemirror_mode": {
    "name": "ipython",
    "version": 3
   },
   "file_extension": ".py",
   "mimetype": "text/x-python",
   "name": "python",
   "nbconvert_exporter": "python",
   "pygments_lexer": "ipython3",
   "version": "3.7.3"
  },
  "latex_envs": {
   "LaTeX_envs_menu_present": true,
   "autoclose": false,
   "autocomplete": true,
   "bibliofile": "biblio.bib",
   "cite_by": "apalike",
   "current_citInitial": 1,
   "eqLabelWithNumbers": true,
   "eqNumInitial": 1,
   "hotkeys": {
    "equation": "Ctrl-E",
    "itemize": "Ctrl-I"
   },
   "labels_anchors": false,
   "latex_user_defs": false,
   "report_style_numbering": false,
   "user_envs_cfg": false
  },
  "toc": {
   "base_numbering": 1,
   "nav_menu": {},
   "number_sections": true,
   "sideBar": true,
   "skip_h1_title": false,
   "title_cell": "Table of Contents",
   "title_sidebar": "Contents",
   "toc_cell": false,
   "toc_position": {},
   "toc_section_display": true,
   "toc_window_display": false
  },
  "varInspector": {
   "cols": {
    "lenName": 16,
    "lenType": 16,
    "lenVar": 40
   },
   "kernels_config": {
    "python": {
     "delete_cmd_postfix": "",
     "delete_cmd_prefix": "del ",
     "library": "var_list.py",
     "varRefreshCmd": "print(var_dic_list())"
    },
    "r": {
     "delete_cmd_postfix": ") ",
     "delete_cmd_prefix": "rm(",
     "library": "var_list.r",
     "varRefreshCmd": "cat(var_dic_list()) "
    }
   },
   "types_to_exclude": [
    "module",
    "function",
    "builtin_function_or_method",
    "instance",
    "_Feature"
   ],
   "window_display": false
  }
 },
 "nbformat": 4,
 "nbformat_minor": 1
}
